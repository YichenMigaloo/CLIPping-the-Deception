{
 "cells": [
  {
   "cell_type": "code",
   "execution_count": 2,
   "id": "96936bcc-bc58-4b11-a656-da7d997244ea",
   "metadata": {},
   "outputs": [],
   "source": [
    "# custom config\n",
    "DATA='./data/'\n",
    "TRAINER='CoOp'\n",
    "\n",
    "DATASET='ImageNet'\n",
    "CFG='vit_b16_ep100' # config file\n",
    "CTP='middle'  # class token position (end or middle)\n",
    "NCTX=16  # number of context tokens\n",
    "SHOTS=16  # number of shots (1, 2, 4, 8, 16)\n",
    "CSC=False  # class-specific context (False or True)\n",
    "SEED=17"
   ]
  },
  {
   "cell_type": "code",
   "execution_count": 3,
   "id": "e7fa0d6d-f0fe-4c00-97d6-7d65a20cc8ca",
   "metadata": {},
   "outputs": [],
   "source": [
    "from os import path\n",
    "import sys\n",
    "sys.path.append(path.abspath('.'))"
   ]
  },
  {
   "cell_type": "code",
   "execution_count": 4,
   "id": "f594c791-e8a1-4c62-a168-41a0e2b1a48a",
   "metadata": {},
   "outputs": [
    {
     "name": "stdout",
     "output_type": "stream",
     "text": [
      "^C\n"
     ]
    }
   ],
   "source": [
    "!python train.py \\\n",
    "        --root C:/Users/sohail/Desktop/Research/PhD/Year3/DeepfakeDetection/CoOp/data/ \\\n",
    "        --seed 17 \\\n",
    "        --trainer CoOp \\\n",
    "        --dataset-config-file C:/Users/sohail/Desktop/Research/PhD/Year3/DeepfakeDetection/CoOp/configs/datasets/imagenet.yaml \\\n",
    "        --config-file C:/Users/sohail/Desktop/Research/PhD/Year3/DeepfakeDetection/CoOp/configs/trainers/coop/vit_b16_ep100.yaml \\\n",
    "        --output-dir C:/Users/sohail/Desktop/Research/PhD/Year3/DeepfakeDetection/CoOp/outputs/ \\\n",
    "        TRAINER.COOP.N_CTX 16 \\\n",
    "        TRAINER.COOP.CSC False \\\n",
    "        TRAINER.COOP.CLASS_TOKEN_POSITION front \\\n",
    "        DATASET.NUM_SHOTS 16"
   ]
  },
  {
   "cell_type": "code",
   "execution_count": null,
   "id": "18f74d36-354a-4d95-9d82-cf4df762fca1",
   "metadata": {},
   "outputs": [],
   "source": [
    "# from dassl.data.datasets import DATASET_REGISTRY, Datum, DatasetBase\n",
    "\n",
    "# @DATASET_REGISTRY.register()\n",
    "# class NewDataset(DatasetBase):\n",
    "\n",
    "#     dataset_dir = 'C:/Users/sohail/Desktop/Research/PhD/Year3/DeepfakeDetection/CoOp/data/progan/'\n",
    "\n",
    "#     def __init__(self, cfg):\n",
    "        \n",
    "#         train_x = ...\n",
    "#         train_u = ...  # optional, can be None\n",
    "#         val = ...  # optional, can be None\n",
    "#         test = ...\n",
    "\n",
    "#         super().__init__(train_x=train_x, train_u=train_u, val=val, test=test)"
   ]
  },
  {
   "cell_type": "code",
   "execution_count": 11,
   "id": "aeda9dce-15b1-4ea8-80b7-9cf5aa8bf98f",
   "metadata": {},
   "outputs": [],
   "source": [
    "import torch"
   ]
  },
  {
   "cell_type": "code",
   "execution_count": 12,
   "id": "aeaebc69-703e-4189-82f1-1ee699844ee6",
   "metadata": {},
   "outputs": [
    {
     "data": {
      "text/plain": [
       "False"
      ]
     },
     "execution_count": 12,
     "metadata": {},
     "output_type": "execute_result"
    }
   ],
   "source": [
    "torch.cuda.is_available()"
   ]
  },
  {
   "cell_type": "code",
   "execution_count": null,
   "id": "33144f2c-1c8e-4f32-9377-dc57ef30b3d3",
   "metadata": {},
   "outputs": [],
   "source": [
    "python train.py --root C:/Users/sohail/Desktop/Research/PhD/Year3/DeepfakeDetection/CoOp/data/ --seed 17 --trainer CoOp\n",
    "        --dataset-config-file C:/Users/sohail/Desktop/Research/PhD/Year3/DeepfakeDetection/CoOp/configs/datasets/imagenet.yaml\n",
    "        --config-file C:/Users/sohail/Desktop/Research/PhD/Year3/DeepfakeDetection/CoOp/configs/trainers/coop/vit_b16_ep100.yaml\n",
    "        --output-dir C:/Users/sohail/Desktop/Research/PhD/Year3/DeepfakeDetection/CoOp/outputs/\n",
    "        TRAINER.COOP.N_CTX 16\n",
    "        TRAINER.COOP.CSC False\n",
    "        TRAINER.COOP.CLASS_TOKEN_POSITION front\n",
    "        DATASET.NUM_SHOTS 16"
   ]
  },
  {
   "cell_type": "code",
   "execution_count": null,
   "id": "1a502f21-ac35-42c5-b6ae-4ee64f750a1d",
   "metadata": {},
   "outputs": [],
   "source": [
    "python train.py --root C:/Users/sohail/Desktop/Research/PhD/Year3/DeepfakeDetection/CoOp/data/ --seed 17 --trainer CoOp --dataset-config-file C:/Users/sohail/Desktop/Research/PhD/Year3/DeepfakeDetection/CoOp/configs/datasets/imagenet.yaml --config-file C:/Users/sohail/Desktop/Research/PhD/Year3/DeepfakeDetection/CoOp/configs/trainers/coop/vit_b16_ep50.yaml --output-dir C:/Users/sohail/Desktop/Research/PhD/Year3/DeepfakeDetection/CoOp/outputs/ TRAINER.COOP.N_CTX 16 TRAINER.COOP.CSC False TRAINER.COOP.CLASS_TOKEN_POSITION front DATASET.NUM_SHOTS 16"
   ]
  },
  {
   "cell_type": "code",
   "execution_count": null,
   "id": "91831dd7-ff32-4fd7-842a-4afcec7d306a",
   "metadata": {},
   "outputs": [],
   "source": [
    "python train.py --root C:/Users/sohail/Desktop/Research/PhD/Year3/DeepfakeDetection/CoOp/data/ --seed 17 --trainer CoOp --dataset-config-file C:/Users/sohail/Desktop/Research/PhD/Year3/DeepfakeDetection/CoOp/configs/datasets/imagenet.yaml --config-file C:/Users/sohail/Desktop/Research/PhD/Year3/DeepfakeDetection/CoOp/configs/trainers/coop/vit_l14_ep3.yaml --output-dir C:/Users/sohail/Desktop/Research/PhD/Year3/DeepfakeDetection/CoOp/outputs/ TRAINER.COOP.N_CTX 16 TRAINER.COOP.CSC False TRAINER.COOP.CLASS_TOKEN_POSITION front DATASET.NUM_SHOTS 10000"
   ]
  },
  {
   "cell_type": "code",
   "execution_count": null,
   "id": "14a43323-cb60-4de4-bf14-4da6aab52e6a",
   "metadata": {},
   "outputs": [],
   "source": [
    "python train.py --root C:/Users/sohail/Desktop/Research/PhD/Year3/DeepfakeDetection/CoOp/data/ --seed 17 --trainer CoOp --dataset-config-file C:/Users/sohail/Desktop/Research/PhD/Year3/DeepfakeDetection/CoOp/configs/datasets/imagenet.yaml --config-file C:/Users/sohail/Desktop/Research/PhD/Year3/DeepfakeDetection/CoOp/configs/trainers/coop/vit_l14_ep3.yaml --output-dir C:/Users/sohail/Desktop/Research/PhD/Year3/DeepfakeDetection/CoOp/outputs/ TRAINER.COOP.N_CTX 4 TRAINER.COOP.CSC False TRAINER.COOP.CLASS_TOKEN_POSITION front DATASET.NUM_SHOTS 10000"
   ]
  },
  {
   "cell_type": "code",
   "execution_count": null,
   "id": "363881f6-5798-4392-adba-772f00de1a55",
   "metadata": {},
   "outputs": [],
   "source": [
    "python train.py --root C:/Users/sohail/Desktop/Research/PhD/Year3/DeepfakeDetection/CoOp/data/ --seed 17 --trainer CoOp --dataset-config-file C:/Users/sohail/Desktop/Research/PhD/Year3/DeepfakeDetection/CoOp/configs/datasets/imagenet.yaml --config-file C:/Users/sohail/Desktop/Research/PhD/Year3/DeepfakeDetection/CoOp/configs/trainers/coop/vit_l14_ep2.yaml --output-dir C:/Users/sohail/Desktop/Research/PhD/Year3/DeepfakeDetection/CoOp/outputs/ TRAINER.COOP.N_CTX 4 TRAINER.COOP.CSC False TRAINER.COOP.CLASS_TOKEN_POSITION front DATASET.NUM_SHOTS 30000"
   ]
  },
  {
   "cell_type": "markdown",
   "id": "06fac3bf-ea19-4bd2-b99b-595fb7104467",
   "metadata": {},
   "source": [
    "# read pickle"
   ]
  },
  {
   "cell_type": "code",
   "execution_count": 1,
   "id": "b10e31e0-e855-4b5f-8330-f954dc9041a9",
   "metadata": {},
   "outputs": [],
   "source": [
    "# from dassl.data.datasets import DATASET_REGISTRY, Datum, DatasetBase\n",
    "import pickle\n",
    "from collections import defaultdict\n"
   ]
  },
  {
   "cell_type": "code",
   "execution_count": 3,
   "id": "e96ce74d-8979-4d26-bbcc-848ddf4aefc6",
   "metadata": {},
   "outputs": [
    {
     "ename": "ModuleNotFoundError",
     "evalue": "No module named 'dassl'",
     "output_type": "error",
     "traceback": [
      "\u001b[1;31m---------------------------------------------------------------------------\u001b[0m",
      "\u001b[1;31mModuleNotFoundError\u001b[0m                       Traceback (most recent call last)",
      "Cell \u001b[1;32mIn[3], line 4\u001b[0m\n\u001b[0;32m      2\u001b[0m preprocessed \u001b[38;5;241m=\u001b[39m \u001b[38;5;124m'\u001b[39m\u001b[38;5;124mshot_40000-seed_17.pkl\u001b[39m\u001b[38;5;124m'\u001b[39m\n\u001b[0;32m      3\u001b[0m \u001b[38;5;28;01mwith\u001b[39;00m \u001b[38;5;28mopen\u001b[39m(preprocessed, \u001b[38;5;124m\"\u001b[39m\u001b[38;5;124mrb\u001b[39m\u001b[38;5;124m\"\u001b[39m) \u001b[38;5;28;01mas\u001b[39;00m f:\n\u001b[1;32m----> 4\u001b[0m     preprocessed \u001b[38;5;241m=\u001b[39m \u001b[43mpickle\u001b[49m\u001b[38;5;241;43m.\u001b[39;49m\u001b[43mload\u001b[49m\u001b[43m(\u001b[49m\u001b[43mf\u001b[49m\u001b[43m)\u001b[49m\n",
      "\u001b[1;31mModuleNotFoundError\u001b[0m: No module named 'dassl'"
     ]
    }
   ],
   "source": [
    "import pandas as pd\n",
    "preprocessed = 'shot_40000-seed_17.pkl'\n",
    "with open(preprocessed, \"rb\") as f:\n",
    "    preprocessed = pickle.load(f)\n",
    "    # train = preprocessed[\"train\"]\n",
    "    # test = preprocessed[\"test\"]"
   ]
  },
  {
   "cell_type": "code",
   "execution_count": 3,
   "id": "df6f6c35-ce13-4d81-ba54-156b0eb0dec6",
   "metadata": {},
   "outputs": [],
   "source": [
    "# tracker = defaultdict(list)\n",
    "# for item in train:\n",
    "#     tracker[item.label].append(item)"
   ]
  },
  {
   "cell_type": "code",
   "execution_count": 58,
   "id": "da7b6959-2858-4a68-9084-1e22c8a17c78",
   "metadata": {},
   "outputs": [],
   "source": [
    "item = train[0]\n",
    "output = {\n",
    "    \"label\": item.label,\n",
    "    \"domain\": item.domain,\n",
    "    \"impath\": item.impath,\n",
    "    # \"index\": idx\n",
    "}"
   ]
  },
  {
   "cell_type": "code",
   "execution_count": 3,
   "id": "612f8a14-b870-43ba-88ff-c4074b23b540",
   "metadata": {
    "scrolled": true
   },
   "outputs": [
    {
     "name": "stdout",
     "output_type": "stream",
     "text": [
      "C:\\Users\\sohail\\Desktop\\Research\\PhD\\Year3\\DeepfakeDetection\\CoOp\\data\\imagenet\\images\\train\\n01440764\\motorbike_13516.png\n",
      "C:\\Users\\sohail\\Desktop\\Research\\PhD\\Year3\\DeepfakeDetection\\CoOp\\data\\imagenet\\images\\train\\n01440764\\diningtable_16983.png\n",
      "C:\\Users\\sohail\\Desktop\\Research\\PhD\\Year3\\DeepfakeDetection\\CoOp\\data\\imagenet\\images\\train\\n01440764\\cat_19076.png\n",
      "C:\\Users\\sohail\\Desktop\\Research\\PhD\\Year3\\DeepfakeDetection\\CoOp\\data\\imagenet\\images\\train\\n01440764\\cow_11674.png\n",
      "C:\\Users\\sohail\\Desktop\\Research\\PhD\\Year3\\DeepfakeDetection\\CoOp\\data\\imagenet\\images\\train\\n01440764\\cat_11794.png\n",
      "C:\\Users\\sohail\\Desktop\\Research\\PhD\\Year3\\DeepfakeDetection\\CoOp\\data\\imagenet\\images\\train\\n01440764\\bottle_11303.png\n",
      "C:\\Users\\sohail\\Desktop\\Research\\PhD\\Year3\\DeepfakeDetection\\CoOp\\data\\imagenet\\images\\train\\n01440764\\train_09732.png\n",
      "C:\\Users\\sohail\\Desktop\\Research\\PhD\\Year3\\DeepfakeDetection\\CoOp\\data\\imagenet\\images\\train\\n01440764\\train_09288.png\n",
      "C:\\Users\\sohail\\Desktop\\Research\\PhD\\Year3\\DeepfakeDetection\\CoOp\\data\\imagenet\\images\\train\\n01440764\\person_03176.png\n",
      "C:\\Users\\sohail\\Desktop\\Research\\PhD\\Year3\\DeepfakeDetection\\CoOp\\data\\imagenet\\images\\train\\n01440764\\sofa_06748.png\n",
      "C:\\Users\\sohail\\Desktop\\Research\\PhD\\Year3\\DeepfakeDetection\\CoOp\\data\\imagenet\\images\\train\\n01440764\\cat_05982.png\n",
      "C:\\Users\\sohail\\Desktop\\Research\\PhD\\Year3\\DeepfakeDetection\\CoOp\\data\\imagenet\\images\\train\\n01440764\\bird_17728.png\n",
      "C:\\Users\\sohail\\Desktop\\Research\\PhD\\Year3\\DeepfakeDetection\\CoOp\\data\\imagenet\\images\\train\\n01440764\\airplane_13970.png\n",
      "C:\\Users\\sohail\\Desktop\\Research\\PhD\\Year3\\DeepfakeDetection\\CoOp\\data\\imagenet\\images\\train\\n01440764\\car_10217.png\n",
      "C:\\Users\\sohail\\Desktop\\Research\\PhD\\Year3\\DeepfakeDetection\\CoOp\\data\\imagenet\\images\\train\\n01440764\\diningtable_01355.png\n",
      "C:\\Users\\sohail\\Desktop\\Research\\PhD\\Year3\\DeepfakeDetection\\CoOp\\data\\imagenet\\images\\train\\n01440764\\tvmonitor_11196.png\n",
      "C:\\Users\\sohail\\Desktop\\Research\\PhD\\Year3\\DeepfakeDetection\\CoOp\\data\\imagenet\\images\\train\\n01440764\\diningtable_19984.png\n",
      "C:\\Users\\sohail\\Desktop\\Research\\PhD\\Year3\\DeepfakeDetection\\CoOp\\data\\imagenet\\images\\train\\n01440764\\car_12099.png\n",
      "C:\\Users\\sohail\\Desktop\\Research\\PhD\\Year3\\DeepfakeDetection\\CoOp\\data\\imagenet\\images\\train\\n01440764\\motorbike_02973.png\n",
      "C:\\Users\\sohail\\Desktop\\Research\\PhD\\Year3\\DeepfakeDetection\\CoOp\\data\\imagenet\\images\\train\\n01440764\\chair_06480.png\n",
      "C:\\Users\\sohail\\Desktop\\Research\\PhD\\Year3\\DeepfakeDetection\\CoOp\\data\\imagenet\\images\\train\\n01440764\\sheep_15814.png\n",
      "C:\\Users\\sohail\\Desktop\\Research\\PhD\\Year3\\DeepfakeDetection\\CoOp\\data\\imagenet\\images\\train\\n01440764\\sofa_18734.png\n",
      "C:\\Users\\sohail\\Desktop\\Research\\PhD\\Year3\\DeepfakeDetection\\CoOp\\data\\imagenet\\images\\train\\n01440764\\train_19730.png\n",
      "C:\\Users\\sohail\\Desktop\\Research\\PhD\\Year3\\DeepfakeDetection\\CoOp\\data\\imagenet\\images\\train\\n01440764\\diningtable_10470.png\n",
      "C:\\Users\\sohail\\Desktop\\Research\\PhD\\Year3\\DeepfakeDetection\\CoOp\\data\\imagenet\\images\\train\\n01440764\\boat_12272.png\n",
      "C:\\Users\\sohail\\Desktop\\Research\\PhD\\Year3\\DeepfakeDetection\\CoOp\\data\\imagenet\\images\\train\\n01440764\\person_09028.png\n",
      "C:\\Users\\sohail\\Desktop\\Research\\PhD\\Year3\\DeepfakeDetection\\CoOp\\data\\imagenet\\images\\train\\n01440764\\bicycle_12485.png\n",
      "C:\\Users\\sohail\\Desktop\\Research\\PhD\\Year3\\DeepfakeDetection\\CoOp\\data\\imagenet\\images\\train\\n01440764\\boat_13489.png\n",
      "C:\\Users\\sohail\\Desktop\\Research\\PhD\\Year3\\DeepfakeDetection\\CoOp\\data\\imagenet\\images\\train\\n01440764\\bus_03038.png\n",
      "C:\\Users\\sohail\\Desktop\\Research\\PhD\\Year3\\DeepfakeDetection\\CoOp\\data\\imagenet\\images\\train\\n01440764\\boat_19115.png\n",
      "C:\\Users\\sohail\\Desktop\\Research\\PhD\\Year3\\DeepfakeDetection\\CoOp\\data\\imagenet\\images\\train\\n01440764\\train_09983.png\n",
      "C:\\Users\\sohail\\Desktop\\Research\\PhD\\Year3\\DeepfakeDetection\\CoOp\\data\\imagenet\\images\\train\\n01440764\\motorbike_19314.png\n",
      "C:\\Users\\sohail\\Desktop\\Research\\PhD\\Year3\\DeepfakeDetection\\CoOp\\data\\imagenet\\images\\train\\n01440764\\person_13104.png\n",
      "C:\\Users\\sohail\\Desktop\\Research\\PhD\\Year3\\DeepfakeDetection\\CoOp\\data\\imagenet\\images\\train\\n01440764\\sofa_19523.png\n",
      "C:\\Users\\sohail\\Desktop\\Research\\PhD\\Year3\\DeepfakeDetection\\CoOp\\data\\imagenet\\images\\train\\n01440764\\bus_09810.png\n",
      "C:\\Users\\sohail\\Desktop\\Research\\PhD\\Year3\\DeepfakeDetection\\CoOp\\data\\imagenet\\images\\train\\n01440764\\chair_13563.png\n",
      "C:\\Users\\sohail\\Desktop\\Research\\PhD\\Year3\\DeepfakeDetection\\CoOp\\data\\imagenet\\images\\train\\n01440764\\person_03048.png\n",
      "C:\\Users\\sohail\\Desktop\\Research\\PhD\\Year3\\DeepfakeDetection\\CoOp\\data\\imagenet\\images\\train\\n01440764\\boat_04789.png\n",
      "C:\\Users\\sohail\\Desktop\\Research\\PhD\\Year3\\DeepfakeDetection\\CoOp\\data\\imagenet\\images\\train\\n01440764\\train_15179.png\n",
      "C:\\Users\\sohail\\Desktop\\Research\\PhD\\Year3\\DeepfakeDetection\\CoOp\\data\\imagenet\\images\\train\\n01440764\\sheep_14859.png\n",
      "C:\\Users\\sohail\\Desktop\\Research\\PhD\\Year3\\DeepfakeDetection\\CoOp\\data\\imagenet\\images\\train\\n01440764\\bicycle_16142.png\n",
      "C:\\Users\\sohail\\Desktop\\Research\\PhD\\Year3\\DeepfakeDetection\\CoOp\\data\\imagenet\\images\\train\\n01440764\\chair_02091.png\n",
      "C:\\Users\\sohail\\Desktop\\Research\\PhD\\Year3\\DeepfakeDetection\\CoOp\\data\\imagenet\\images\\train\\n01440764\\diningtable_14791.png\n",
      "C:\\Users\\sohail\\Desktop\\Research\\PhD\\Year3\\DeepfakeDetection\\CoOp\\data\\imagenet\\images\\train\\n01440764\\bird_02878.png\n",
      "C:\\Users\\sohail\\Desktop\\Research\\PhD\\Year3\\DeepfakeDetection\\CoOp\\data\\imagenet\\images\\train\\n01440764\\motorbike_05792.png\n",
      "C:\\Users\\sohail\\Desktop\\Research\\PhD\\Year3\\DeepfakeDetection\\CoOp\\data\\imagenet\\images\\train\\n01440764\\horse_08553.png\n",
      "C:\\Users\\sohail\\Desktop\\Research\\PhD\\Year3\\DeepfakeDetection\\CoOp\\data\\imagenet\\images\\train\\n01440764\\sheep_15627.png\n",
      "C:\\Users\\sohail\\Desktop\\Research\\PhD\\Year3\\DeepfakeDetection\\CoOp\\data\\imagenet\\images\\train\\n01440764\\pottedplant_14620.png\n",
      "C:\\Users\\sohail\\Desktop\\Research\\PhD\\Year3\\DeepfakeDetection\\CoOp\\data\\imagenet\\images\\train\\n01440764\\boat_14403.png\n",
      "C:\\Users\\sohail\\Desktop\\Research\\PhD\\Year3\\DeepfakeDetection\\CoOp\\data\\imagenet\\images\\train\\n01440764\\sofa_17732.png\n",
      "C:\\Users\\sohail\\Desktop\\Research\\PhD\\Year3\\DeepfakeDetection\\CoOp\\data\\imagenet\\images\\train\\n01440764\\diningtable_14224.png\n",
      "C:\\Users\\sohail\\Desktop\\Research\\PhD\\Year3\\DeepfakeDetection\\CoOp\\data\\imagenet\\images\\train\\n01440764\\motorbike_05190.png\n",
      "C:\\Users\\sohail\\Desktop\\Research\\PhD\\Year3\\DeepfakeDetection\\CoOp\\data\\imagenet\\images\\train\\n01440764\\chair_16315.png\n",
      "C:\\Users\\sohail\\Desktop\\Research\\PhD\\Year3\\DeepfakeDetection\\CoOp\\data\\imagenet\\images\\train\\n01440764\\airplane_09316.png\n",
      "C:\\Users\\sohail\\Desktop\\Research\\PhD\\Year3\\DeepfakeDetection\\CoOp\\data\\imagenet\\images\\train\\n01440764\\dog_06552.png\n",
      "C:\\Users\\sohail\\Desktop\\Research\\PhD\\Year3\\DeepfakeDetection\\CoOp\\data\\imagenet\\images\\train\\n01440764\\cow_15045.png\n",
      "C:\\Users\\sohail\\Desktop\\Research\\PhD\\Year3\\DeepfakeDetection\\CoOp\\data\\imagenet\\images\\train\\n01440764\\person_19779.png\n",
      "C:\\Users\\sohail\\Desktop\\Research\\PhD\\Year3\\DeepfakeDetection\\CoOp\\data\\imagenet\\images\\train\\n01440764\\bicycle_07073.png\n",
      "C:\\Users\\sohail\\Desktop\\Research\\PhD\\Year3\\DeepfakeDetection\\CoOp\\data\\imagenet\\images\\train\\n01440764\\tvmonitor_14166.png\n",
      "C:\\Users\\sohail\\Desktop\\Research\\PhD\\Year3\\DeepfakeDetection\\CoOp\\data\\imagenet\\images\\train\\n01440764\\tvmonitor_07254.png\n",
      "C:\\Users\\sohail\\Desktop\\Research\\PhD\\Year3\\DeepfakeDetection\\CoOp\\data\\imagenet\\images\\train\\n01440764\\cow_05912.png\n",
      "C:\\Users\\sohail\\Desktop\\Research\\PhD\\Year3\\DeepfakeDetection\\CoOp\\data\\imagenet\\images\\train\\n01440764\\bicycle_06318.png\n",
      "C:\\Users\\sohail\\Desktop\\Research\\PhD\\Year3\\DeepfakeDetection\\CoOp\\data\\imagenet\\images\\train\\n01440764\\horse_10067.png\n",
      "C:\\Users\\sohail\\Desktop\\Research\\PhD\\Year3\\DeepfakeDetection\\CoOp\\data\\imagenet\\images\\train\\n01440764\\cow_16527.png\n",
      "C:\\Users\\sohail\\Desktop\\Research\\PhD\\Year3\\DeepfakeDetection\\CoOp\\data\\imagenet\\images\\train\\n01440764\\pottedplant_04226.png\n",
      "C:\\Users\\sohail\\Desktop\\Research\\PhD\\Year3\\DeepfakeDetection\\CoOp\\data\\imagenet\\images\\train\\n01440764\\airplane_02475.png\n",
      "C:\\Users\\sohail\\Desktop\\Research\\PhD\\Year3\\DeepfakeDetection\\CoOp\\data\\imagenet\\images\\train\\n01440764\\diningtable_12497.png\n",
      "C:\\Users\\sohail\\Desktop\\Research\\PhD\\Year3\\DeepfakeDetection\\CoOp\\data\\imagenet\\images\\train\\n01440764\\car_05031.png\n",
      "C:\\Users\\sohail\\Desktop\\Research\\PhD\\Year3\\DeepfakeDetection\\CoOp\\data\\imagenet\\images\\train\\n01440764\\boat_01309.png\n",
      "C:\\Users\\sohail\\Desktop\\Research\\PhD\\Year3\\DeepfakeDetection\\CoOp\\data\\imagenet\\images\\train\\n01440764\\person_11928.png\n",
      "C:\\Users\\sohail\\Desktop\\Research\\PhD\\Year3\\DeepfakeDetection\\CoOp\\data\\imagenet\\images\\train\\n01440764\\bus_11860.png\n",
      "C:\\Users\\sohail\\Desktop\\Research\\PhD\\Year3\\DeepfakeDetection\\CoOp\\data\\imagenet\\images\\train\\n01440764\\car_10050.png\n",
      "C:\\Users\\sohail\\Desktop\\Research\\PhD\\Year3\\DeepfakeDetection\\CoOp\\data\\imagenet\\images\\train\\n01440764\\motorbike_16055.png\n",
      "C:\\Users\\sohail\\Desktop\\Research\\PhD\\Year3\\DeepfakeDetection\\CoOp\\data\\imagenet\\images\\train\\n01440764\\cow_08546.png\n",
      "C:\\Users\\sohail\\Desktop\\Research\\PhD\\Year3\\DeepfakeDetection\\CoOp\\data\\imagenet\\images\\train\\n01440764\\bicycle_10409.png\n",
      "C:\\Users\\sohail\\Desktop\\Research\\PhD\\Year3\\DeepfakeDetection\\CoOp\\data\\imagenet\\images\\train\\n01440764\\cat_00099.png\n",
      "C:\\Users\\sohail\\Desktop\\Research\\PhD\\Year3\\DeepfakeDetection\\CoOp\\data\\imagenet\\images\\train\\n01440764\\bicycle_13483.png\n",
      "C:\\Users\\sohail\\Desktop\\Research\\PhD\\Year3\\DeepfakeDetection\\CoOp\\data\\imagenet\\images\\train\\n01440764\\cat_04429.png\n",
      "C:\\Users\\sohail\\Desktop\\Research\\PhD\\Year3\\DeepfakeDetection\\CoOp\\data\\imagenet\\images\\train\\n01440764\\bus_01070.png\n",
      "C:\\Users\\sohail\\Desktop\\Research\\PhD\\Year3\\DeepfakeDetection\\CoOp\\data\\imagenet\\images\\train\\n01440764\\tvmonitor_11798.png\n",
      "C:\\Users\\sohail\\Desktop\\Research\\PhD\\Year3\\DeepfakeDetection\\CoOp\\data\\imagenet\\images\\train\\n01440764\\pottedplant_16751.png\n",
      "C:\\Users\\sohail\\Desktop\\Research\\PhD\\Year3\\DeepfakeDetection\\CoOp\\data\\imagenet\\images\\train\\n01440764\\person_11276.png\n",
      "C:\\Users\\sohail\\Desktop\\Research\\PhD\\Year3\\DeepfakeDetection\\CoOp\\data\\imagenet\\images\\train\\n01440764\\motorbike_19498.png\n",
      "C:\\Users\\sohail\\Desktop\\Research\\PhD\\Year3\\DeepfakeDetection\\CoOp\\data\\imagenet\\images\\train\\n01440764\\person_10155.png\n",
      "C:\\Users\\sohail\\Desktop\\Research\\PhD\\Year3\\DeepfakeDetection\\CoOp\\data\\imagenet\\images\\train\\n01440764\\boat_08079.png\n",
      "C:\\Users\\sohail\\Desktop\\Research\\PhD\\Year3\\DeepfakeDetection\\CoOp\\data\\imagenet\\images\\train\\n01440764\\car_10934.png\n",
      "C:\\Users\\sohail\\Desktop\\Research\\PhD\\Year3\\DeepfakeDetection\\CoOp\\data\\imagenet\\images\\train\\n01440764\\sofa_05298.png\n",
      "C:\\Users\\sohail\\Desktop\\Research\\PhD\\Year3\\DeepfakeDetection\\CoOp\\data\\imagenet\\images\\train\\n01440764\\chair_01251.png\n",
      "C:\\Users\\sohail\\Desktop\\Research\\PhD\\Year3\\DeepfakeDetection\\CoOp\\data\\imagenet\\images\\train\\n01440764\\cow_02353.png\n",
      "C:\\Users\\sohail\\Desktop\\Research\\PhD\\Year3\\DeepfakeDetection\\CoOp\\data\\imagenet\\images\\train\\n01440764\\chair_07280.png\n",
      "C:\\Users\\sohail\\Desktop\\Research\\PhD\\Year3\\DeepfakeDetection\\CoOp\\data\\imagenet\\images\\train\\n01440764\\bottle_09244.png\n",
      "C:\\Users\\sohail\\Desktop\\Research\\PhD\\Year3\\DeepfakeDetection\\CoOp\\data\\imagenet\\images\\train\\n01440764\\chair_14083.png\n",
      "C:\\Users\\sohail\\Desktop\\Research\\PhD\\Year3\\DeepfakeDetection\\CoOp\\data\\imagenet\\images\\train\\n01440764\\bird_09335.png\n",
      "C:\\Users\\sohail\\Desktop\\Research\\PhD\\Year3\\DeepfakeDetection\\CoOp\\data\\imagenet\\images\\train\\n01440764\\pottedplant_01530.png\n",
      "C:\\Users\\sohail\\Desktop\\Research\\PhD\\Year3\\DeepfakeDetection\\CoOp\\data\\imagenet\\images\\train\\n01440764\\pottedplant_03398.png\n",
      "C:\\Users\\sohail\\Desktop\\Research\\PhD\\Year3\\DeepfakeDetection\\CoOp\\data\\imagenet\\images\\train\\n01440764\\cat_02904.png\n",
      "C:\\Users\\sohail\\Desktop\\Research\\PhD\\Year3\\DeepfakeDetection\\CoOp\\data\\imagenet\\images\\train\\n01440764\\chair_15731.png\n",
      "C:\\Users\\sohail\\Desktop\\Research\\PhD\\Year3\\DeepfakeDetection\\CoOp\\data\\imagenet\\images\\train\\n01440764\\airplane_05045.png\n",
      "C:\\Users\\sohail\\Desktop\\Research\\PhD\\Year3\\DeepfakeDetection\\CoOp\\data\\imagenet\\images\\train\\n01440764\\bicycle_06499.png\n",
      "C:\\Users\\sohail\\Desktop\\Research\\PhD\\Year3\\DeepfakeDetection\\CoOp\\data\\imagenet\\images\\train\\n01440764\\tvmonitor_14832.png\n"
     ]
    }
   ],
   "source": [
    "for item in train[:100]:\n",
    "    print(item.impath)"
   ]
  },
  {
   "cell_type": "code",
   "execution_count": 4,
   "id": "551bf2a1-ff9f-46e0-b123-485301335650",
   "metadata": {},
   "outputs": [
    {
     "data": {
      "text/plain": [
       "20000"
      ]
     },
     "execution_count": 4,
     "metadata": {},
     "output_type": "execute_result"
    }
   ],
   "source": [
    "len(train)"
   ]
  },
  {
   "cell_type": "code",
   "execution_count": null,
   "id": "cb82ece4-86f9-4719-bd42-269b600d132b",
   "metadata": {},
   "outputs": [],
   "source": []
  }
 ],
 "metadata": {
  "kernelspec": {
   "display_name": "Python 3 (ipykernel)",
   "language": "python",
   "name": "python3"
  },
  "language_info": {
   "codemirror_mode": {
    "name": "ipython",
    "version": 3
   },
   "file_extension": ".py",
   "mimetype": "text/x-python",
   "name": "python",
   "nbconvert_exporter": "python",
   "pygments_lexer": "ipython3",
   "version": "3.8.18"
  }
 },
 "nbformat": 4,
 "nbformat_minor": 5
}
